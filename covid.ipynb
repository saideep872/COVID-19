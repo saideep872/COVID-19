{
  "nbformat": 4,
  "nbformat_minor": 0,
  "metadata": {
    "colab": {
      "name": "covid.ipynb",
      "provenance": [],
      "collapsed_sections": [],
      "toc_visible": true,
      "include_colab_link": true
    },
    "kernelspec": {
      "name": "python3",
      "display_name": "Python 3"
    }
  },
  "cells": [
    {
      "cell_type": "markdown",
      "metadata": {
        "id": "view-in-github",
        "colab_type": "text"
      },
      "source": [
        "<a href=\"https://colab.research.google.com/github/saideep872/COVID-19/blob/master/covid.ipynb\" target=\"_parent\"><img src=\"https://colab.research.google.com/assets/colab-badge.svg\" alt=\"Open In Colab\"/></a>"
      ]
    },
    {
      "cell_type": "code",
      "metadata": {
        "id": "jizSfq1aR-VP",
        "colab_type": "code",
        "colab": {}
      },
      "source": [
        "import pandas as pd #import pandas library\n",
        "import matplotlib.pyplot as plt\n",
        "import matplotlib.dates as mdates\n",
        "from matplotlib.dates import DateFormatter\n",
        "%matplotlib inline\n",
        "from matplotlib import  rc\n",
        "import numpy as np\n",
        "import datetime as dt\n",
        "import requests\n",
        "import seaborn as sns\n",
        "%matplotlib inline\n",
        "\n"
      ],
      "execution_count": 12,
      "outputs": []
    },
    {
      "cell_type": "markdown",
      "metadata": {
        "id": "Ye2a7ne_LGB_",
        "colab_type": "text"
      },
      "source": [
        "##reading the csv file"
      ]
    },
    {
      "cell_type": "markdown",
      "metadata": {
        "id": "0-Mqn0hCH4le",
        "colab_type": "text"
      },
      "source": [
        "timeseries data\n"
      ]
    },
    {
      "cell_type": "code",
      "metadata": {
        "id": "HkwqaaptLLw3",
        "colab_type": "code",
        "colab": {}
      },
      "source": [
        "r = requests.get('https://api.covid19india.org/data.json')\n",
        "x = r.json()\n",
        "df = pd.DataFrame(x['cases_time_series'])\n",
        "sdf = pd.DataFrame(x['statewise'])    \n",
        "tdf = pd.DataFrame(x['tested'])                             \n",
        "df['Date']=pd.date_range('2020-01-30', periods=df['totalconfirmed'].count())\n",
        "df=df.drop([\"date\"],axis=1)\n",
        "k=[]\n",
        "l=0\n",
        "for i in range(df['totalconfirmed'].count()):\n",
        "  k.append(l+1)\n",
        "  l=l+1\n",
        "df['sno']=k\n",
        "\n"
      ],
      "execution_count": 13,
      "outputs": []
    },
    {
      "cell_type": "code",
      "metadata": {
        "id": "WZEYcScwoA1H",
        "colab_type": "code",
        "colab": {
          "base_uri": "https://localhost:8080/",
          "height": 445
        },
        "outputId": "fd9666bc-8ac0-4be3-e304-1120f385a748"
      },
      "source": [
        "s = requests.get('https://api.covid19india.org/states_daily.json')\n",
        "i= s.json()\n",
        "state= pd.DataFrame(i['states_daily'])\n",
        "\n",
        "conf=state.loc[state['status']=='Confirmed']\n",
        "conf['Date']=pd.date_range('2020-03-14', periods=conf['status'].count())\n",
        "rec=state.loc[state['status']=='Recovered']\n",
        "rec['Date']=pd.date_range('2020-03-14', periods=rec['status'].count())\n",
        "dec=state.loc[state['status']=='Deceased']\n",
        "dec['Date']=pd.date_range('2020-03-14', periods=dec['status'].count())\n",
        "dec=dec.drop(['date'],axis=1)\n",
        "conf['date']=conf['Date'].dt.strftime('%m/%d')\n",
        "conf.set_index('Date',inplace=True)"
      ],
      "execution_count": 14,
      "outputs": [
        {
          "output_type": "stream",
          "text": [
            "/usr/local/lib/python3.6/dist-packages/ipykernel_launcher.py:6: SettingWithCopyWarning: \n",
            "A value is trying to be set on a copy of a slice from a DataFrame.\n",
            "Try using .loc[row_indexer,col_indexer] = value instead\n",
            "\n",
            "See the caveats in the documentation: https://pandas.pydata.org/pandas-docs/stable/user_guide/indexing.html#returning-a-view-versus-a-copy\n",
            "  \n",
            "/usr/local/lib/python3.6/dist-packages/ipykernel_launcher.py:8: SettingWithCopyWarning: \n",
            "A value is trying to be set on a copy of a slice from a DataFrame.\n",
            "Try using .loc[row_indexer,col_indexer] = value instead\n",
            "\n",
            "See the caveats in the documentation: https://pandas.pydata.org/pandas-docs/stable/user_guide/indexing.html#returning-a-view-versus-a-copy\n",
            "  \n",
            "/usr/local/lib/python3.6/dist-packages/ipykernel_launcher.py:10: SettingWithCopyWarning: \n",
            "A value is trying to be set on a copy of a slice from a DataFrame.\n",
            "Try using .loc[row_indexer,col_indexer] = value instead\n",
            "\n",
            "See the caveats in the documentation: https://pandas.pydata.org/pandas-docs/stable/user_guide/indexing.html#returning-a-view-versus-a-copy\n",
            "  # Remove the CWD from sys.path while we load stuff.\n",
            "/usr/local/lib/python3.6/dist-packages/ipykernel_launcher.py:12: SettingWithCopyWarning: \n",
            "A value is trying to be set on a copy of a slice from a DataFrame.\n",
            "Try using .loc[row_indexer,col_indexer] = value instead\n",
            "\n",
            "See the caveats in the documentation: https://pandas.pydata.org/pandas-docs/stable/user_guide/indexing.html#returning-a-view-versus-a-copy\n",
            "  if sys.path[0] == '':\n"
          ],
          "name": "stderr"
        }
      ]
    },
    {
      "cell_type": "code",
      "metadata": {
        "id": "t1hlA6UeJfGU",
        "colab_type": "code",
        "colab": {}
      },
      "source": [
        "df.to_csv('india.csv')"
      ],
      "execution_count": 15,
      "outputs": []
    },
    {
      "cell_type": "code",
      "metadata": {
        "id": "JI3k814e6UYi",
        "colab_type": "code",
        "colab": {
          "base_uri": "https://localhost:8080/",
          "height": 592
        },
        "outputId": "a2ee616b-1c9f-41bc-eada-694beb529008"
      },
      "source": [
        "data = pd.read_csv('india.csv', usecols=['Date','dailyconfirmed'], parse_dates=['Date'])\n",
        "#set date as index\n",
        "#df=df.parse_dates['Date']\n",
        "data.set_index('Date',inplace=True)\n",
        "\n",
        "#plot data\n",
        "fig, ax = plt.subplots(figsize=(15,10))\n",
        "#data.plot(ax=ax)\n",
        "ax.bar(data.index, data['dailyconfirmed'])\n",
        "#set ticks every week\n",
        "plt.style.use('ggplot')\n",
        "ax.xaxis.set_major_locator(mdates.WeekdayLocator())\n",
        "#set major ticks format\n",
        "ax.xaxis.set_major_formatter(mdates.DateFormatter('%d %b'))\n",
        "#ax.set_xticklabels(labels=data['date'], rotation=45, ha='right')\n",
        "plt.show()"
      ],
      "execution_count": 16,
      "outputs": [
        {
          "output_type": "display_data",
          "data": {
            "image/png": "[encoded data removed]",
            "text/plain": [
              "<Figure size 1080x720 with 1 Axes>"
            ]
          },
          "metadata": {
            "tags": [],
            "needs_background": "light"
          }
        }
      ]
    },
    {
      "cell_type": "code",
      "metadata": {
        "id": "KR8hKRN5zyYb",
        "colab_type": "code",
        "colab": {}
      },
      "source": [
        ""
      ],
      "execution_count": 16,
      "outputs": []
    }
  ]
}